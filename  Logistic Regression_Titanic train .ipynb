{
 "cells": [
  {
   "cell_type": "markdown",
   "metadata": {},
   "source": [
    "### Logistic Relation"
   ]
  },
  {
   "cell_type": "code",
   "execution_count": 1,
   "metadata": {},
   "outputs": [],
   "source": [
    "# Importing the  libraries\n",
    "import numpy as np\n",
    "import pandas as pd\n",
    "import matplotlib.pyplot as plt\n",
    "import seaborn as sb\n",
    "%matplotlib inline"
   ]
  },
  {
   "cell_type": "code",
   "execution_count": 5,
   "metadata": {},
   "outputs": [
    {
     "data": {
      "text/html": [
       "<div>\n",
       "<style scoped>\n",
       "    .dataframe tbody tr th:only-of-type {\n",
       "        vertical-align: middle;\n",
       "    }\n",
       "\n",
       "    .dataframe tbody tr th {\n",
       "        vertical-align: top;\n",
       "    }\n",
       "\n",
       "    .dataframe thead th {\n",
       "        text-align: right;\n",
       "    }\n",
       "</style>\n",
       "<table border=\"1\" class=\"dataframe\">\n",
       "  <thead>\n",
       "    <tr style=\"text-align: right;\">\n",
       "      <th></th>\n",
       "      <th>PassengerId</th>\n",
       "      <th>Survived</th>\n",
       "      <th>Pclass</th>\n",
       "      <th>Name</th>\n",
       "      <th>Sex</th>\n",
       "      <th>Age</th>\n",
       "      <th>SibSp</th>\n",
       "      <th>Parch</th>\n",
       "      <th>Ticket</th>\n",
       "      <th>Fare</th>\n",
       "      <th>Cabin</th>\n",
       "      <th>Embarked</th>\n",
       "    </tr>\n",
       "  </thead>\n",
       "  <tbody>\n",
       "    <tr>\n",
       "      <th>0</th>\n",
       "      <td>1</td>\n",
       "      <td>0</td>\n",
       "      <td>3</td>\n",
       "      <td>Braund, Mr. Owen Harris</td>\n",
       "      <td>male</td>\n",
       "      <td>22.0</td>\n",
       "      <td>1</td>\n",
       "      <td>0</td>\n",
       "      <td>A/5 21171</td>\n",
       "      <td>7.2500</td>\n",
       "      <td>NaN</td>\n",
       "      <td>S</td>\n",
       "    </tr>\n",
       "    <tr>\n",
       "      <th>1</th>\n",
       "      <td>2</td>\n",
       "      <td>1</td>\n",
       "      <td>1</td>\n",
       "      <td>Cumings, Mrs. John Bradley (Florence Briggs Th...</td>\n",
       "      <td>female</td>\n",
       "      <td>38.0</td>\n",
       "      <td>1</td>\n",
       "      <td>0</td>\n",
       "      <td>PC 17599</td>\n",
       "      <td>71.2833</td>\n",
       "      <td>C85</td>\n",
       "      <td>C</td>\n",
       "    </tr>\n",
       "    <tr>\n",
       "      <th>2</th>\n",
       "      <td>3</td>\n",
       "      <td>1</td>\n",
       "      <td>3</td>\n",
       "      <td>Heikkinen, Miss. Laina</td>\n",
       "      <td>female</td>\n",
       "      <td>26.0</td>\n",
       "      <td>0</td>\n",
       "      <td>0</td>\n",
       "      <td>STON/O2. 3101282</td>\n",
       "      <td>7.9250</td>\n",
       "      <td>NaN</td>\n",
       "      <td>S</td>\n",
       "    </tr>\n",
       "    <tr>\n",
       "      <th>3</th>\n",
       "      <td>4</td>\n",
       "      <td>1</td>\n",
       "      <td>1</td>\n",
       "      <td>Futrelle, Mrs. Jacques Heath (Lily May Peel)</td>\n",
       "      <td>female</td>\n",
       "      <td>35.0</td>\n",
       "      <td>1</td>\n",
       "      <td>0</td>\n",
       "      <td>113803</td>\n",
       "      <td>53.1000</td>\n",
       "      <td>C123</td>\n",
       "      <td>S</td>\n",
       "    </tr>\n",
       "    <tr>\n",
       "      <th>4</th>\n",
       "      <td>5</td>\n",
       "      <td>0</td>\n",
       "      <td>3</td>\n",
       "      <td>Allen, Mr. William Henry</td>\n",
       "      <td>male</td>\n",
       "      <td>35.0</td>\n",
       "      <td>0</td>\n",
       "      <td>0</td>\n",
       "      <td>373450</td>\n",
       "      <td>8.0500</td>\n",
       "      <td>NaN</td>\n",
       "      <td>S</td>\n",
       "    </tr>\n",
       "  </tbody>\n",
       "</table>\n",
       "</div>"
      ],
      "text/plain": [
       "   PassengerId  Survived  Pclass  \\\n",
       "0            1         0       3   \n",
       "1            2         1       1   \n",
       "2            3         1       3   \n",
       "3            4         1       1   \n",
       "4            5         0       3   \n",
       "\n",
       "                                                Name     Sex   Age  SibSp  \\\n",
       "0                            Braund, Mr. Owen Harris    male  22.0      1   \n",
       "1  Cumings, Mrs. John Bradley (Florence Briggs Th...  female  38.0      1   \n",
       "2                             Heikkinen, Miss. Laina  female  26.0      0   \n",
       "3       Futrelle, Mrs. Jacques Heath (Lily May Peel)  female  35.0      1   \n",
       "4                           Allen, Mr. William Henry    male  35.0      0   \n",
       "\n",
       "   Parch            Ticket     Fare Cabin Embarked  \n",
       "0      0         A/5 21171   7.2500   NaN        S  \n",
       "1      0          PC 17599  71.2833   C85        C  \n",
       "2      0  STON/O2. 3101282   7.9250   NaN        S  \n",
       "3      0            113803  53.1000  C123        S  \n",
       "4      0            373450   8.0500   NaN        S  "
      ]
     },
     "execution_count": 5,
     "metadata": {},
     "output_type": "execute_result"
    }
   ],
   "source": [
    "dataset=pd.read_csv('C:/Users/LENOVO/titanic_train.csv')\n",
    "dataset.head()"
   ]
  },
  {
   "cell_type": "code",
   "execution_count": 6,
   "metadata": {},
   "outputs": [
    {
     "data": {
      "text/plain": [
       "(891, 12)"
      ]
     },
     "execution_count": 6,
     "metadata": {},
     "output_type": "execute_result"
    }
   ],
   "source": [
    "dataset.shape"
   ]
  },
  {
   "cell_type": "code",
   "execution_count": 7,
   "metadata": {},
   "outputs": [
    {
     "name": "stdout",
     "output_type": "stream",
     "text": [
      "<class 'pandas.core.frame.DataFrame'>\n",
      "RangeIndex: 891 entries, 0 to 890\n",
      "Data columns (total 12 columns):\n",
      "PassengerId    891 non-null int64\n",
      "Survived       891 non-null int64\n",
      "Pclass         891 non-null int64\n",
      "Name           891 non-null object\n",
      "Sex            891 non-null object\n",
      "Age            714 non-null float64\n",
      "SibSp          891 non-null int64\n",
      "Parch          891 non-null int64\n",
      "Ticket         891 non-null object\n",
      "Fare           891 non-null float64\n",
      "Cabin          204 non-null object\n",
      "Embarked       889 non-null object\n",
      "dtypes: float64(2), int64(5), object(5)\n",
      "memory usage: 83.6+ KB\n"
     ]
    }
   ],
   "source": [
    "dataset.info()"
   ]
  },
  {
   "cell_type": "code",
   "execution_count": 8,
   "metadata": {},
   "outputs": [
    {
     "data": {
      "text/plain": [
       "<matplotlib.axes._subplots.AxesSubplot at 0x2696dbbf320>"
      ]
     },
     "execution_count": 8,
     "metadata": {},
     "output_type": "execute_result"
    },
    {
     "data": {
      "image/png": "[encoded data removed]",
      "text/plain": [
       "<Figure size 432x288 with 2 Axes>"
      ]
     },
     "metadata": {
      "needs_background": "light"
     },
     "output_type": "display_data"
    }
   ],
   "source": [
    "sb.heatmap(dataset.isnull())"
   ]
  },
  {
   "cell_type": "code",
   "execution_count": 9,
   "metadata": {},
   "outputs": [
    {
     "data": {
      "text/plain": [
       "<matplotlib.axes._subplots.AxesSubplot at 0x2696dc87390>"
      ]
     },
     "execution_count": 9,
     "metadata": {},
     "output_type": "execute_result"
    },
    {
     "data": {
      "image/png": "[encoded data removed]",
      "text/plain": [
       "<Figure size 432x288 with 1 Axes>"
      ]
     },
     "metadata": {
      "needs_background": "light"
     },
     "output_type": "display_data"
    }
   ],
   "source": [
    "sb.countplot(x='Survived', data=dataset)"
   ]
  },
  {
   "cell_type": "code",
   "execution_count": 10,
   "metadata": {},
   "outputs": [
    {
     "data": {
      "text/plain": [
       "<matplotlib.axes._subplots.AxesSubplot at 0x2696dd8b898>"
      ]
     },
     "execution_count": 10,
     "metadata": {},
     "output_type": "execute_result"
    },
    {
     "data": {
      "image/png": "[encoded data removed]",
      "text/plain": [
       "<Figure size 432x288 with 1 Axes>"
      ]
     },
     "metadata": {
      "needs_background": "light"
     },
     "output_type": "display_data"
    }
   ],
   "source": [
    "sb.countplot(x='Survived', hue = 'Sex', data=dataset)"
   ]
  },
  {
   "cell_type": "code",
   "execution_count": 11,
   "metadata": {},
   "outputs": [
    {
     "data": {
      "text/plain": [
       "<matplotlib.axes._subplots.AxesSubplot at 0x2696dde08d0>"
      ]
     },
     "execution_count": 11,
     "metadata": {},
     "output_type": "execute_result"
    },
    {
     "data": {
      "image/png": "[encoded data removed]",
      "text/plain": [
       "<Figure size 432x288 with 1 Axes>"
      ]
     },
     "metadata": {
      "needs_background": "light"
     },
     "output_type": "display_data"
    }
   ],
   "source": [
    "sb.countplot(x='Survived', hue = 'Pclass', data=dataset)"
   ]
  },
  {
   "cell_type": "code",
   "execution_count": 12,
   "metadata": {},
   "outputs": [
    {
     "data": {
      "text/plain": [
       "<matplotlib.axes._subplots.AxesSubplot at 0x2696de3e780>"
      ]
     },
     "execution_count": 12,
     "metadata": {},
     "output_type": "execute_result"
    },
    {
     "data": {
      "image/png": "[encoded data removed]",
      "text/plain": [
       "<Figure size 864x504 with 1 Axes>"
      ]
     },
     "metadata": {
      "needs_background": "light"
     },
     "output_type": "display_data"
    }
   ],
   "source": [
    "plt.figure(figsize=(12,7))\n",
    "sb.boxplot(x='Pclass', y='Age', data=dataset, palette='winter')"
   ]
  },
  {
   "cell_type": "code",
   "execution_count": 11,
   "metadata": {},
   "outputs": [],
   "source": [
    "##median : likely values"
   ]
  },
  {
   "cell_type": "code",
   "execution_count": 13,
   "metadata": {},
   "outputs": [],
   "source": [
    "def impute_age(cols):\n",
    "    Age = cols[0]\n",
    "    Pclass = cols[1]\n",
    "\n",
    "    if pd.isnull(Age):\n",
    "        if Pclass == 1:\n",
    "             return 37\n",
    "        elif Pclass == 2:\n",
    "             return 29\n",
    "        else:\n",
    "             return 24\n",
    "    else:\n",
    "        return Age"
   ]
  },
  {
   "cell_type": "code",
   "execution_count": 14,
   "metadata": {},
   "outputs": [],
   "source": [
    "dataset['Age']=dataset[['Age','Pclass']].apply(impute_age, axis=1)"
   ]
  },
  {
   "cell_type": "code",
   "execution_count": 24,
   "metadata": {},
   "outputs": [
    {
     "data": {
      "text/plain": [
       "<matplotlib.axes._subplots.AxesSubplot at 0x2696e2d5f60>"
      ]
     },
     "execution_count": 24,
     "metadata": {},
     "output_type": "execute_result"
    },
    {
     "data": {
      "image/png": "[encoded data removed]",
      "text/plain": [
       "<Figure size 432x288 with 2 Axes>"
      ]
     },
     "metadata": {
      "needs_background": "light"
     },
     "output_type": "display_data"
    }
   ],
   "source": [
    "sb.heatmap(dataset.isnull())\n"
   ]
  },
  {
   "cell_type": "code",
   "execution_count": 25,
   "metadata": {},
   "outputs": [],
   "source": [
    "dataset.drop('Cabin', axis=1, inplace=True)"
   ]
  },
  {
   "cell_type": "code",
   "execution_count": 26,
   "metadata": {},
   "outputs": [
    {
     "name": "stdout",
     "output_type": "stream",
     "text": [
      "<class 'pandas.core.frame.DataFrame'>\n",
      "RangeIndex: 891 entries, 0 to 890\n",
      "Data columns (total 11 columns):\n",
      "PassengerId    891 non-null int64\n",
      "Survived       891 non-null int64\n",
      "Pclass         891 non-null int64\n",
      "Name           891 non-null object\n",
      "Sex            891 non-null object\n",
      "Age            891 non-null float64\n",
      "SibSp          891 non-null int64\n",
      "Parch          891 non-null int64\n",
      "Ticket         891 non-null object\n",
      "Fare           891 non-null float64\n",
      "Embarked       889 non-null object\n",
      "dtypes: float64(2), int64(5), object(4)\n",
      "memory usage: 76.6+ KB\n"
     ]
    }
   ],
   "source": [
    "dataset.info()"
   ]
  },
  {
   "cell_type": "code",
   "execution_count": 27,
   "metadata": {},
   "outputs": [],
   "source": [
    "sex = pd.get_dummies(dataset['Sex'], drop_first=True)\n",
    "embark = pd.get_dummies(dataset['Embarked'], drop_first=True)"
   ]
  },
  {
   "cell_type": "code",
   "execution_count": 28,
   "metadata": {},
   "outputs": [],
   "source": [
    "dataset.drop(['PassengerId', 'Sex', 'Embarked', 'Name', 'Ticket'], axis=1,inplace=True)"
   ]
  },
  {
   "cell_type": "code",
   "execution_count": 29,
   "metadata": {},
   "outputs": [],
   "source": [
    "dataset=pd.concat([dataset,sex,embark],axis=1)"
   ]
  },
  {
   "cell_type": "code",
   "execution_count": 30,
   "metadata": {},
   "outputs": [
    {
     "data": {
      "text/html": [
       "<div>\n",
       "<style scoped>\n",
       "    .dataframe tbody tr th:only-of-type {\n",
       "        vertical-align: middle;\n",
       "    }\n",
       "\n",
       "    .dataframe tbody tr th {\n",
       "        vertical-align: top;\n",
       "    }\n",
       "\n",
       "    .dataframe thead th {\n",
       "        text-align: right;\n",
       "    }\n",
       "</style>\n",
       "<table border=\"1\" class=\"dataframe\">\n",
       "  <thead>\n",
       "    <tr style=\"text-align: right;\">\n",
       "      <th></th>\n",
       "      <th>Survived</th>\n",
       "      <th>Pclass</th>\n",
       "      <th>Age</th>\n",
       "      <th>SibSp</th>\n",
       "      <th>Parch</th>\n",
       "      <th>Fare</th>\n",
       "      <th>male</th>\n",
       "      <th>Q</th>\n",
       "      <th>S</th>\n",
       "    </tr>\n",
       "  </thead>\n",
       "  <tbody>\n",
       "    <tr>\n",
       "      <th>0</th>\n",
       "      <td>0</td>\n",
       "      <td>3</td>\n",
       "      <td>22.0</td>\n",
       "      <td>1</td>\n",
       "      <td>0</td>\n",
       "      <td>7.2500</td>\n",
       "      <td>1</td>\n",
       "      <td>0</td>\n",
       "      <td>1</td>\n",
       "    </tr>\n",
       "    <tr>\n",
       "      <th>1</th>\n",
       "      <td>1</td>\n",
       "      <td>1</td>\n",
       "      <td>38.0</td>\n",
       "      <td>1</td>\n",
       "      <td>0</td>\n",
       "      <td>71.2833</td>\n",
       "      <td>0</td>\n",
       "      <td>0</td>\n",
       "      <td>0</td>\n",
       "    </tr>\n",
       "    <tr>\n",
       "      <th>2</th>\n",
       "      <td>1</td>\n",
       "      <td>3</td>\n",
       "      <td>26.0</td>\n",
       "      <td>0</td>\n",
       "      <td>0</td>\n",
       "      <td>7.9250</td>\n",
       "      <td>0</td>\n",
       "      <td>0</td>\n",
       "      <td>1</td>\n",
       "    </tr>\n",
       "    <tr>\n",
       "      <th>3</th>\n",
       "      <td>1</td>\n",
       "      <td>1</td>\n",
       "      <td>35.0</td>\n",
       "      <td>1</td>\n",
       "      <td>0</td>\n",
       "      <td>53.1000</td>\n",
       "      <td>0</td>\n",
       "      <td>0</td>\n",
       "      <td>1</td>\n",
       "    </tr>\n",
       "    <tr>\n",
       "      <th>4</th>\n",
       "      <td>0</td>\n",
       "      <td>3</td>\n",
       "      <td>35.0</td>\n",
       "      <td>0</td>\n",
       "      <td>0</td>\n",
       "      <td>8.0500</td>\n",
       "      <td>1</td>\n",
       "      <td>0</td>\n",
       "      <td>1</td>\n",
       "    </tr>\n",
       "  </tbody>\n",
       "</table>\n",
       "</div>"
      ],
      "text/plain": [
       "   Survived  Pclass   Age  SibSp  Parch     Fare  male  Q  S\n",
       "0         0       3  22.0      1      0   7.2500     1  0  1\n",
       "1         1       1  38.0      1      0  71.2833     0  0  0\n",
       "2         1       3  26.0      0      0   7.9250     0  0  1\n",
       "3         1       1  35.0      1      0  53.1000     0  0  1\n",
       "4         0       3  35.0      0      0   8.0500     1  0  1"
      ]
     },
     "execution_count": 30,
     "metadata": {},
     "output_type": "execute_result"
    }
   ],
   "source": [
    "dataset.head()"
   ]
  },
  {
   "cell_type": "code",
   "execution_count": 31,
   "metadata": {},
   "outputs": [],
   "source": [
    "from sklearn.model_selection import train_test_split\n",
    "X_train, X_test, y_train, y_test = train_test_split(dataset.drop('Survived',axis=1),dataset['Survived'], test_size=0.20,\n",
    "                                                    random_state=101)"
   ]
  },
  {
   "cell_type": "code",
   "execution_count": 33,
   "metadata": {},
   "outputs": [
    {
     "name": "stderr",
     "output_type": "stream",
     "text": [
      "C:\\Users\\LENOVO\\Anaconda3\\lib\\site-packages\\sklearn\\linear_model\\logistic.py:433: FutureWarning: Default solver will be changed to 'lbfgs' in 0.22. Specify a solver to silence this warning.\n",
      "  FutureWarning)\n"
     ]
    }
   ],
   "source": [
    "from sklearn.linear_model import LogisticRegression\n",
    "logmodel = LogisticRegression()\n",
    "logmodel.fit(X_train,y_train)\n",
    "predictions = logmodel.predict(X_test)"
   ]
  },
  {
   "cell_type": "code",
   "execution_count": 34,
   "metadata": {},
   "outputs": [
    {
     "data": {
      "text/plain": [
       "0.7988826815642458"
      ]
     },
     "execution_count": 34,
     "metadata": {},
     "output_type": "execute_result"
    }
   ],
   "source": [
    "logmodel.score(X_test,y_test)"
   ]
  },
  {
   "cell_type": "code",
   "execution_count": 35,
   "metadata": {},
   "outputs": [
    {
     "name": "stdout",
     "output_type": "stream",
     "text": [
      "              precision    recall  f1-score   support\n",
      "\n",
      "           0       0.78      0.89      0.83        99\n",
      "           1       0.83      0.69      0.75        80\n",
      "\n",
      "   micro avg       0.80      0.80      0.80       179\n",
      "   macro avg       0.81      0.79      0.79       179\n",
      "weighted avg       0.80      0.80      0.80       179\n",
      "\n"
     ]
    }
   ],
   "source": [
    "from sklearn.metrics import classification_report\n",
    "print(classification_report(y_test,predictions))"
   ]
  },
  {
   "cell_type": "code",
   "execution_count": 36,
   "metadata": {},
   "outputs": [],
   "source": [
    "from sklearn.metrics import roc_curve\n",
    "from sklearn.metrics import roc_auc_score"
   ]
  },
  {
   "cell_type": "code",
   "execution_count": 37,
   "metadata": {},
   "outputs": [],
   "source": [
    "def plot_roc_curve(fpr, tpr):\n",
    "    plt.plot(fpr,tpr,color='orange', label='ROC')\n",
    "    plt.plot([0,1],[0,1],color='darkblue',linestyle='--')\n",
    "    plt.xlabel('False Positive Rate')\n",
    "    plt.ylabel('True Positive Rate')\n",
    "    plt.title('Receiver Operating Characteristic (ROC) Curve')\n",
    "    plt.legend()\n",
    "    plt.show()"
   ]
  },
  {
   "cell_type": "code",
   "execution_count": 38,
   "metadata": {},
   "outputs": [
    {
     "data": {
      "text/plain": [
       "array([[0.69029294, 0.30970706],\n",
       "       [0.03540376, 0.96459624],\n",
       "       [0.56386245, 0.43613755],\n",
       "       [0.82157422, 0.17842578],\n",
       "       [0.79046302, 0.20953698],\n",
       "       [0.91948747, 0.08051253],\n",
       "       [0.63846624, 0.36153376],\n",
       "       [0.87047527, 0.12952473],\n",
       "       [0.16243253, 0.83756747],\n",
       "       [0.43321793, 0.56678207],\n",
       "       [0.79046302, 0.20953698],\n",
       "       [0.89744719, 0.10255281],\n",
       "       [0.36962233, 0.63037767],\n",
       "       [0.87676435, 0.12323565],\n",
       "       [0.84613986, 0.15386014],\n",
       "       [0.91318728, 0.08681272],\n",
       "       [0.51966055, 0.48033945],\n",
       "       [0.85431774, 0.14568226],\n",
       "       [0.84845592, 0.15154408],\n",
       "       [0.26213815, 0.73786185],\n",
       "       [0.90445551, 0.09554449],\n",
       "       [0.93899535, 0.06100465],\n",
       "       [0.37365922, 0.62634078],\n",
       "       [0.42160079, 0.57839921],\n",
       "       [0.92821118, 0.07178882],\n",
       "       [0.76767623, 0.23232377],\n",
       "       [0.85061298, 0.14938702],\n",
       "       [0.78015309, 0.21984691],\n",
       "       [0.90425618, 0.09574382],\n",
       "       [0.92319317, 0.07680683],\n",
       "       [0.23841797, 0.76158203],\n",
       "       [0.09669469, 0.90330531],\n",
       "       [0.37364317, 0.62635683],\n",
       "       [0.87018758, 0.12981242],\n",
       "       [0.92039468, 0.07960532],\n",
       "       [0.07980828, 0.92019172],\n",
       "       [0.89283643, 0.10716357],\n",
       "       [0.92311857, 0.07688143],\n",
       "       [0.91643665, 0.08356335],\n",
       "       [0.61495478, 0.38504522],\n",
       "       [0.38613392, 0.61386608],\n",
       "       [0.43321793, 0.56678207],\n",
       "       [0.16653816, 0.83346184],\n",
       "       [0.70831218, 0.29168782],\n",
       "       [0.82061848, 0.17938152],\n",
       "       [0.6378326 , 0.3621674 ],\n",
       "       [0.93366148, 0.06633852],\n",
       "       [0.68975676, 0.31024324],\n",
       "       [0.90678564, 0.09321436],\n",
       "       [0.79046302, 0.20953698],\n",
       "       [0.24541664, 0.75458336],\n",
       "       [0.6381915 , 0.3618085 ],\n",
       "       [0.27381123, 0.72618877],\n",
       "       [0.33129535, 0.66870465],\n",
       "       [0.37364317, 0.62635683],\n",
       "       [0.87638833, 0.12361167],\n",
       "       [0.84675901, 0.15324099],\n",
       "       [0.85536477, 0.14463523],\n",
       "       [0.70419849, 0.29580151],\n",
       "       [0.08639909, 0.91360091],\n",
       "       [0.10749209, 0.89250791],\n",
       "       [0.84824507, 0.15175493],\n",
       "       [0.93558809, 0.06441191],\n",
       "       [0.40286256, 0.59713744],\n",
       "       [0.91768638, 0.08231362],\n",
       "       [0.75478354, 0.24521646],\n",
       "       [0.23342672, 0.76657328],\n",
       "       [0.38136068, 0.61863932],\n",
       "       [0.41596831, 0.58403169],\n",
       "       [0.64361224, 0.35638776],\n",
       "       [0.43979291, 0.56020709],\n",
       "       [0.85348687, 0.14651313],\n",
       "       [0.85676231, 0.14323769],\n",
       "       [0.86143567, 0.13856433],\n",
       "       [0.43380635, 0.56619365],\n",
       "       [0.09746967, 0.90253033],\n",
       "       [0.90289854, 0.09710146],\n",
       "       [0.87964366, 0.12035634],\n",
       "       [0.865439  , 0.134561  ],\n",
       "       [0.71050107, 0.28949893],\n",
       "       [0.98341196, 0.01658804],\n",
       "       [0.09284555, 0.90715445],\n",
       "       [0.86553153, 0.13446847],\n",
       "       [0.88985292, 0.11014708],\n",
       "       [0.26312295, 0.73687705],\n",
       "       [0.87087434, 0.12912566],\n",
       "       [0.83198961, 0.16801039],\n",
       "       [0.58051486, 0.41948514],\n",
       "       [0.88586098, 0.11413902],\n",
       "       [0.41461751, 0.58538249],\n",
       "       [0.8660417 , 0.1339583 ],\n",
       "       [0.44527474, 0.55472526],\n",
       "       [0.03500628, 0.96499372],\n",
       "       [0.19291061, 0.80708939],\n",
       "       [0.47403393, 0.52596607],\n",
       "       [0.19749019, 0.80250981],\n",
       "       [0.33494855, 0.66505145],\n",
       "       [0.8578177 , 0.1421823 ],\n",
       "       [0.85302882, 0.14697118],\n",
       "       [0.85470576, 0.14529424],\n",
       "       [0.89241563, 0.10758437],\n",
       "       [0.195783  , 0.804217  ],\n",
       "       [0.69880418, 0.30119582],\n",
       "       [0.85120923, 0.14879077],\n",
       "       [0.4392609 , 0.5607391 ],\n",
       "       [0.37788536, 0.62211464],\n",
       "       [0.2518386 , 0.7481614 ],\n",
       "       [0.14040412, 0.85959588],\n",
       "       [0.30329149, 0.69670851],\n",
       "       [0.6314702 , 0.3685298 ],\n",
       "       [0.6671506 , 0.3328494 ],\n",
       "       [0.62443046, 0.37556954],\n",
       "       [0.74276899, 0.25723101],\n",
       "       [0.86787449, 0.13212551],\n",
       "       [0.42190353, 0.57809647],\n",
       "       [0.61919928, 0.38080072],\n",
       "       [0.21842772, 0.78157228],\n",
       "       [0.80987513, 0.19012487],\n",
       "       [0.792182  , 0.207818  ],\n",
       "       [0.37364317, 0.62635683],\n",
       "       [0.57388757, 0.42611243],\n",
       "       [0.92122267, 0.07877733],\n",
       "       [0.1102356 , 0.8897644 ],\n",
       "       [0.86754375, 0.13245625],\n",
       "       [0.61276571, 0.38723429],\n",
       "       [0.88516782, 0.11483218],\n",
       "       [0.60440988, 0.39559012],\n",
       "       [0.9068274 , 0.0931726 ],\n",
       "       [0.17928122, 0.82071878],\n",
       "       [0.72356668, 0.27643332],\n",
       "       [0.04668863, 0.95331137],\n",
       "       [0.29169945, 0.70830055],\n",
       "       [0.11865156, 0.88134844],\n",
       "       [0.9087024 , 0.0912976 ],\n",
       "       [0.90973745, 0.09026255],\n",
       "       [0.86635252, 0.13364748],\n",
       "       [0.90443641, 0.09556359],\n",
       "       [0.91944683, 0.08055317],\n",
       "       [0.87631649, 0.12368351],\n",
       "       [0.13434829, 0.86565171],\n",
       "       [0.89986753, 0.10013247],\n",
       "       [0.38398558, 0.61601442],\n",
       "       [0.86430165, 0.13569835],\n",
       "       [0.88199903, 0.11800097],\n",
       "       [0.45630193, 0.54369807],\n",
       "       [0.88732153, 0.11267847],\n",
       "       [0.07380516, 0.92619484],\n",
       "       [0.58306509, 0.41693491],\n",
       "       [0.91038433, 0.08961567],\n",
       "       [0.85604904, 0.14395096],\n",
       "       [0.21083925, 0.78916075],\n",
       "       [0.40959214, 0.59040786],\n",
       "       [0.64191447, 0.35808553],\n",
       "       [0.87631649, 0.12368351],\n",
       "       [0.86050394, 0.13949606],\n",
       "       [0.66681635, 0.33318365],\n",
       "       [0.35963747, 0.64036253],\n",
       "       [0.57463244, 0.42536756],\n",
       "       [0.22553781, 0.77446219],\n",
       "       [0.08351656, 0.91648344],\n",
       "       [0.75963995, 0.24036005],\n",
       "       [0.86553153, 0.13446847],\n",
       "       [0.48095687, 0.51904313],\n",
       "       [0.87342469, 0.12657531],\n",
       "       [0.25007198, 0.74992802],\n",
       "       [0.27935085, 0.72064915],\n",
       "       [0.87622474, 0.12377526],\n",
       "       [0.08559896, 0.91440104],\n",
       "       [0.77333047, 0.22666953],\n",
       "       [0.72952325, 0.27047675],\n",
       "       [0.13402744, 0.86597256],\n",
       "       [0.85815486, 0.14184514],\n",
       "       [0.59035914, 0.40964086],\n",
       "       [0.07999078, 0.92000922],\n",
       "       [0.87666303, 0.12333697],\n",
       "       [0.87622474, 0.12377526],\n",
       "       [0.15065234, 0.84934766],\n",
       "       [0.9303602 , 0.0696398 ],\n",
       "       [0.79046302, 0.20953698]])"
      ]
     },
     "execution_count": 38,
     "metadata": {},
     "output_type": "execute_result"
    }
   ],
   "source": [
    "probs=logmodel.predict_proba(X_test)\n",
    "probs"
   ]
  },
  {
   "cell_type": "code",
   "execution_count": 39,
   "metadata": {},
   "outputs": [
    {
     "data": {
      "text/plain": [
       "array([0.30970706, 0.96459624, 0.43613755, 0.17842578, 0.20953698,\n",
       "       0.08051253, 0.36153376, 0.12952473, 0.83756747, 0.56678207,\n",
       "       0.20953698, 0.10255281, 0.63037767, 0.12323565, 0.15386014,\n",
       "       0.08681272, 0.48033945, 0.14568226, 0.15154408, 0.73786185,\n",
       "       0.09554449, 0.06100465, 0.62634078, 0.57839921, 0.07178882,\n",
       "       0.23232377, 0.14938702, 0.21984691, 0.09574382, 0.07680683,\n",
       "       0.76158203, 0.90330531, 0.62635683, 0.12981242, 0.07960532,\n",
       "       0.92019172, 0.10716357, 0.07688143, 0.08356335, 0.38504522,\n",
       "       0.61386608, 0.56678207, 0.83346184, 0.29168782, 0.17938152,\n",
       "       0.3621674 , 0.06633852, 0.31024324, 0.09321436, 0.20953698,\n",
       "       0.75458336, 0.3618085 , 0.72618877, 0.66870465, 0.62635683,\n",
       "       0.12361167, 0.15324099, 0.14463523, 0.29580151, 0.91360091,\n",
       "       0.89250791, 0.15175493, 0.06441191, 0.59713744, 0.08231362,\n",
       "       0.24521646, 0.76657328, 0.61863932, 0.58403169, 0.35638776,\n",
       "       0.56020709, 0.14651313, 0.14323769, 0.13856433, 0.56619365,\n",
       "       0.90253033, 0.09710146, 0.12035634, 0.134561  , 0.28949893,\n",
       "       0.01658804, 0.90715445, 0.13446847, 0.11014708, 0.73687705,\n",
       "       0.12912566, 0.16801039, 0.41948514, 0.11413902, 0.58538249,\n",
       "       0.1339583 , 0.55472526, 0.96499372, 0.80708939, 0.52596607,\n",
       "       0.80250981, 0.66505145, 0.1421823 , 0.14697118, 0.14529424,\n",
       "       0.10758437, 0.804217  , 0.30119582, 0.14879077, 0.5607391 ,\n",
       "       0.62211464, 0.7481614 , 0.85959588, 0.69670851, 0.3685298 ,\n",
       "       0.3328494 , 0.37556954, 0.25723101, 0.13212551, 0.57809647,\n",
       "       0.38080072, 0.78157228, 0.19012487, 0.207818  , 0.62635683,\n",
       "       0.42611243, 0.07877733, 0.8897644 , 0.13245625, 0.38723429,\n",
       "       0.11483218, 0.39559012, 0.0931726 , 0.82071878, 0.27643332,\n",
       "       0.95331137, 0.70830055, 0.88134844, 0.0912976 , 0.09026255,\n",
       "       0.13364748, 0.09556359, 0.08055317, 0.12368351, 0.86565171,\n",
       "       0.10013247, 0.61601442, 0.13569835, 0.11800097, 0.54369807,\n",
       "       0.11267847, 0.92619484, 0.41693491, 0.08961567, 0.14395096,\n",
       "       0.78916075, 0.59040786, 0.35808553, 0.12368351, 0.13949606,\n",
       "       0.33318365, 0.64036253, 0.42536756, 0.77446219, 0.91648344,\n",
       "       0.24036005, 0.13446847, 0.51904313, 0.12657531, 0.74992802,\n",
       "       0.72064915, 0.12377526, 0.91440104, 0.22666953, 0.27047675,\n",
       "       0.86597256, 0.14184514, 0.40964086, 0.92000922, 0.12333697,\n",
       "       0.12377526, 0.84934766, 0.0696398 , 0.20953698])"
      ]
     },
     "execution_count": 39,
     "metadata": {},
     "output_type": "execute_result"
    }
   ],
   "source": [
    "probs=probs[:, 1]\n",
    "probs"
   ]
  },
  {
   "cell_type": "code",
   "execution_count": 40,
   "metadata": {},
   "outputs": [
    {
     "name": "stdout",
     "output_type": "stream",
     "text": [
      "AUC: 0.88\n"
     ]
    }
   ],
   "source": [
    "auc=roc_auc_score(y_test, probs)\n",
    "print('AUC: %.2f' % auc)#%.2 : reference value:place holder"
   ]
  },
  {
   "cell_type": "code",
   "execution_count": 41,
   "metadata": {},
   "outputs": [],
   "source": [
    "fpr,tpr,thresholds=roc_curve(y_test, probs)"
   ]
  },
  {
   "cell_type": "code",
   "execution_count": 42,
   "metadata": {},
   "outputs": [
    {
     "data": {
      "image/png": "[encoded data removed]",
      "text/plain": [
       "<Figure size 432x288 with 1 Axes>"
      ]
     },
     "metadata": {
      "needs_background": "light"
     },
     "output_type": "display_data"
    }
   ],
   "source": [
    "plot_roc_curve(fpr,tpr)"
   ]
  },
  {
   "cell_type": "code",
   "execution_count": null,
   "metadata": {},
   "outputs": [],
   "source": []
  }
 ],
 "metadata": {
  "kernelspec": {
   "display_name": "Python 3",
   "language": "python",
   "name": "python3"
  },
  "language_info": {
   "codemirror_mode": {
    "name": "ipython",
    "version": 3
   },
   "file_extension": ".py",
   "mimetype": "text/x-python",
   "name": "python",
   "nbconvert_exporter": "python",
   "pygments_lexer": "ipython3",
   "version": "3.7.3"
  }
 },
 "nbformat": 4,
 "nbformat_minor": 2
}
